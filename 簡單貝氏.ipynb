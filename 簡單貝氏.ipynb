{
 "cells": [
  {
   "cell_type": "markdown",
   "metadata": {
    "slideshow": {
     "slide_type": "slide"
    }
   },
   "source": [
    "# 單純貝氏\n",
    "\n",
    "## ```Da-Wei Chiang```"
   ]
  },
  {
   "cell_type": "markdown",
   "metadata": {
    "slideshow": {
     "slide_type": "slide"
    }
   },
   "source": [
    "## ```Outline```\n",
    "\n",
    "- 貝氏分類推導\n",
    "- 貝氏分類範例"
   ]
  },
  {
   "cell_type": "markdown",
   "metadata": {
    "slideshow": {
     "slide_type": "slide"
    }
   },
   "source": [
    "## 貝氏分類推導\n",
    "\n",
    "- 貝氏分類的基礎氏機率論中的貝氏定理\n",
    "$$P(B|A) = { {P(A|B)P(B)}\\over{P(A)} }$$\n",
    "- 貝氏分類的定義如下\n",
    "    - Step1 : 設待分類項的特徵向量 $X = {a_1,a_2,a_3,...,a_n}$\n",
    "    - Step2 : 有類別的集合 $C = {y_1,y_2,...,y_n}$\n",
    "    - Step3 : 計算$P(y_1|X), P(y_2|X), ..., P(y_n|X)$\n",
    "    - Step4 : 如果$P(y_k|X) = max( P(y_1|X), P(y_2|X), ..., P(y_n|X) )$，則$X$為$y_k$類\n",
    "- 貝氏分類的步驟說明如下\n",
    "    - Step1 : 找出預被分類的特徵向量，也就是訓練集\n",
    "    - Step2 : 計算$P(y_1),P(y_2),........,P(y_n)$\n",
    "    - Step3 : 分別計算$P(a_1|y_1),P(a_2|y_1)...P(a_m|y_1)$、$P(a_1|y_2),P(a_2|y_2)...P(a_m|y_2)$、$........$、$P(a_1|y_n),P(a_2|y_n)...P(a_m|y_n)$\n",
    "    - Step4 : 因貝氏定理中，各特徵彼此之間是獨立的。因此\n",
    "    $$P(y_i|X) = { {P(X|y_i)P(y_i)}\\over{}P(X)}$$\n",
    "    其中$P(X|y_i)P(y_i) = P(a_1|y_i)P(a_2|y_i)P(a_3|y_i).....P(a_m|y_i)P(y_i)$"
   ]
  },
  {
   "cell_type": "markdown",
   "metadata": {
    "slideshow": {
     "slide_type": "slide"
    }
   },
   "source": [
    "## 貝氏分類範例\n",
    "\n",
    "- 假定某資料表如下，計算某特徵向量X=(age=\"<=30\", income=\"medium\", student=\"yes\",creditrating=\"fair\")是否會買電腦\n",
    "\n",
    "|ID|age|income|student|creditrating|buycomputer|\n",
    "|---|---|---|---|---------|---|\n",
    "|1|<=30|high|no|fair|no|\n",
    "|2|<=30|high|no|excellent|no|\n",
    "|3|31...40|high|no|fair|yes|\n",
    "|4|>40|medium|no|fair|yes|\n",
    "|5|>40|low|yes|fair|yes|\n",
    "|6|>40|low|yes|excellent|no|\n",
    "|7|31...40|low|yes|excellent|yes|\n",
    "|8|<=30|medium|no|fair|no|\n",
    "|9|<=30|low|yes|fair|yes|\n",
    "|10|>40|medium|yes|fair|yes|\n",
    "|11|<=30|medium|yes|excellent|yes|\n",
    "|12|31...40|medium|no|excellent|yes|\n",
    "|13|31...40|high|yes|fair|yes|\n",
    "|14|>40|medium|no|excellent|no|"
   ]
  },
  {
   "cell_type": "markdown",
   "metadata": {
    "slideshow": {
     "slide_type": "subslide"
    }
   },
   "source": [
    "## 貝氏分類範例\n",
    "\n",
    "- $P(buycomputer=\"yes\") = {9\\over14}$、$P(buycomputer=\"no\") = {5\\over14}$\n",
    "- buycomputer = \"Yes\"\n",
    "    - $P(age<=30 ｜  buycomputer = \"Yes\") = {2\\over9}$\n",
    "    - $P(income=medium ｜  buycomputer = \"Yes\") = {4\\over9}$\n",
    "    - $P(student=yes ｜  buycomputer = \"Yes\") = {6\\over9}$\n",
    "    - $P(creditrating=fair ｜  buycomputer = \"Yes\") = {6\\over9}$\n",
    "- buycomputer = \"No\"\n",
    "    - $P(age<=30 ｜  buycomputer = \"No\") = {3\\over5}$\n",
    "    - $P(income=medium ｜  buycomputer = \"No\") = {2\\over5}$\n",
    "    - $P(student=yes ｜  buycomputer = \"No\") = {1\\over5}$\n",
    "    - $P(creditrating=fair ｜  buycomputer = \"No\") = {2\\over5}$\n",
    "- $P(X ｜  buycomouter=\"Yes\") = {2\\over9}\\times{4\\over9}\\times{6\\over9}\\times{6\\over9} \\approx 0.044$\n",
    "- $P(X ｜  buycomouter=\"No\") = {3\\over5}\\times{2\\over5}\\times{1\\over5}\\times{2\\over5} \\approx 0.019$\n",
    "- $P(buycomputer=\"Yes\" ｜  X) = P(X ｜  buycomouter=\"Yes\")P(buycomputer=\"yes\") = 0.044\\times{9\\over14}\\approx0.028$\n",
    "- $P(buycomputer=\"No\" ｜  X) = P(X ｜  buycomouter=\"No\")P(buycomputer=\"No\") = 0.019\\times{5\\over14}\\approx0.007$\n",
    "- 依據計算結果，特徵向量X會判定為Yes這一類"
   ]
  }
 ],
 "metadata": {
  "celltoolbar": "Slideshow",
  "kernelspec": {
   "display_name": "Python 3",
   "language": "python",
   "name": "python3"
  },
  "language_info": {
   "codemirror_mode": {
    "name": "ipython",
    "version": 3
   },
   "file_extension": ".py",
   "mimetype": "text/x-python",
   "name": "python",
   "nbconvert_exporter": "python",
   "pygments_lexer": "ipython3",
   "version": "3.6.1"
  }
 },
 "nbformat": 4,
 "nbformat_minor": 2
}
